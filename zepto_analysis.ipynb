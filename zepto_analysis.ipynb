{
 "cells": [
  {
   "cell_type": "code",
   "execution_count": 1,
   "id": "3fe38452-33b3-45cd-98c2-4f03a58ae2ff",
   "metadata": {},
   "outputs": [],
   "source": [
    "# Zepto-Style Real-Time Delivery Optimization Project"
   ]
  },
  {
   "cell_type": "code",
   "execution_count": null,
   "id": "31685e4f-4a19-4f26-abed-bd78959508e4",
   "metadata": {},
   "outputs": [],
   "source": [
    "## 1. Introduction\n",
    "\n",
    "# Problem Statement\n",
    "In the competitive world of quick-commerce, companies like Zepto promise delivery within 10 minutes.\n",
    "However, maintaining such fast delivery times consistently requires optimized logistics, reliable agents, and data-driven decision-making.\n",
    "In this project, we aim to analyze and optimize delivery performance using real-world-style simulated data for a Zepto-like grocery delivery platform.\n",
    "                                                                                                                                                                                                                                                                                                                                                          \n",
    "# The goal is to:\n",
    "-> Identify patterns behind late deliveries\n",
    "-> Evaluate delivery agent performance\n",
    "-> Understand zone-level challenges\n",
    "-> Examine external factors like weather\n",
    "-> Help the business make operational improvements\n",
    "\n",
    " # Tools Used\n",
    "This project was carried out using:\n",
    "=> Python (pandas, numpy, matplotlib, seaborn)\n",
    "=> SQL (for data extraction and transformations)\n",
    "=> Power BI (for final dashboard & storytelling)\n",
    "\n",
    "Python is used for data cleaning, transformation, and in-depth analysis. \n",
    "SQL is used for structured data querying and performance optimization.\n",
    "Power BI is used to present key business insights visually.\n",
    "\n",
    "# Datasets Description\n",
    "We simulate realistic data resembling Zepto’s delivery model. The datasets include:\n",
    ">> 'orders.csv': Contains all customer orders with timestamps, delivery status, and delivery agent info\n",
    ">> 'deliveries.csv': Contains pickup and drop times, delivery delays, and weather conditions\n",
    ">> 'customers.csv': Contains customer details, location, and loyalty scores\n",
    ">> 'agents.csv': Contains agent details, ratings, and assigned zones"
   ]
  },
  {
   "cell_type": "code",
   "execution_count": 1,
   "id": "cf32a504-14e4-43cf-a21e-bcbdbd890b85",
   "metadata": {},
   "outputs": [],
   "source": [
    "## 2. Import Libraries and Load Data\n",
    "import pandas as pd \n",
    "\n",
    "orders=pd.read_csv('orders.csv',parse_dates=['order_time','delivery_time'])\n",
    "deliveries=pd.read_csv('deliveries.csv',parse_dates=['pickup_time','drop_time'])\n",
    "customers=pd.read_csv('customers.csv',parse_dates=['signup_date'])\n",
    "agents=pd.read_csv('agents.csv')"
   ]
  },
  {
   "cell_type": "code",
   "execution_count": 2,
   "id": "b98bf545-4267-4660-9e42-0cc9a84956d9",
   "metadata": {},
   "outputs": [],
   "source": [
    "## 3. Basic Data Exploration"
   ]
  },
  {
   "cell_type": "code",
   "execution_count": 3,
   "id": "aa834089-94de-4069-a8d5-802cd8a49970",
   "metadata": {},
   "outputs": [],
   "source": [
    "# 3.1 CHECKING SHAPE AND PREVIEW FOR ALL DATAFRAMES  "
   ]
  },
  {
   "cell_type": "code",
   "execution_count": 5,
   "id": "4cccea6b-15c7-49b4-a2a6-3fe711dc738d",
   "metadata": {},
   "outputs": [
    {
     "name": "stdout",
     "output_type": "stream",
     "text": [
      "orders\n",
      "(50000, 9)\n",
      "   order_id customer_id delivery_agent_id          order_time  \\\n",
      "0  ORD00001    CUST3366          AGNT0308 2024-04-13 22:04:00   \n",
      "1  ORD00002    CUST1883          AGNT0194 2024-10-07 16:26:00   \n",
      "2  ORD00003    CUST4132          AGNT0351 2024-11-01 16:26:00   \n",
      "3  ORD00004    CUST4914          AGNT0020 2024-03-26 13:44:00   \n",
      "4  ORD00005    CUST4277          AGNT0216 2024-09-26 16:48:00   \n",
      "\n",
      "            delivery_time  delay_minutes     zone weather_condition     status  \n",
      "0 2024-04-13 22:21:51.000           7.85  Central             Rainy  Delivered  \n",
      "1 2024-10-07 16:40:27.600           4.46    South             Clear  Delivered  \n",
      "2 2024-11-01 16:41:16.200           5.27    South            Stormy  Delivered  \n",
      "3 2024-03-26 14:02:37.800           8.63    North             Foggy  Delivered  \n",
      "4 2024-09-26 17:05:06.600           7.11    North            Stormy  Delivered  \n",
      "       order_id customer_id delivery_agent_id          order_time  \\\n",
      "49995  ORD49996    CUST1294          AGNT0321 2024-10-11 12:34:00   \n",
      "49996  ORD49997    CUST0907          AGNT0130 2024-03-30 05:49:00   \n",
      "49997  ORD49998    CUST4623          AGNT0133 2024-02-08 01:47:00   \n",
      "49998  ORD49999    CUST2163          AGNT0369 2024-08-27 02:40:00   \n",
      "49999  ORD50000    CUST4109          AGNT0254 2024-09-03 03:02:00   \n",
      "\n",
      "                delivery_time  delay_minutes   zone weather_condition  \\\n",
      "49995 2024-10-11 12:53:36.000           9.60  North             Foggy   \n",
      "49996 2024-03-30 06:04:21.000           5.35   West             Rainy   \n",
      "49997 2024-02-08 02:05:05.400           8.09   West             Windy   \n",
      "49998 2024-08-27 02:56:53.400           6.89   West             Windy   \n",
      "49999 2024-09-03 03:20:21.600           8.36   East             Rainy   \n",
      "\n",
      "          status  \n",
      "49995  Delivered  \n",
      "49996  Delivered  \n",
      "49997  Delivered  \n",
      "49998  Delivered  \n",
      "49999  Delivered  \n"
     ]
    }
   ],
   "source": [
    "print('orders')\n",
    "print(orders.shape)\n",
    "print(orders.head())\n",
    "print(orders.tail())"
   ]
  },
  {
   "cell_type": "code",
   "execution_count": 11,
   "id": "ea303d97-a98b-4485-bb99-218c2d59114d",
   "metadata": {},
   "outputs": [
    {
     "name": "stdout",
     "output_type": "stream",
     "text": [
      "deliveries\n",
      "(50000, 5)\n",
      "   order_id         pickup_time               drop_time  \\\n",
      "0  ORD00001 2024-04-13 22:06:00 2024-04-13 22:21:51.000   \n",
      "1  ORD00002 2024-10-07 16:28:00 2024-10-07 16:40:27.600   \n",
      "2  ORD00003 2024-11-01 16:28:00 2024-11-01 16:41:16.200   \n",
      "3  ORD00004 2024-03-26 13:46:00 2024-03-26 14:02:37.800   \n",
      "4  ORD00005 2024-09-26 16:50:00 2024-09-26 17:05:06.600   \n",
      "\n",
      "   actual_duration_minutes  is_late  \n",
      "0                    15.85        0  \n",
      "1                    12.46        0  \n",
      "2                    13.27        0  \n",
      "3                    16.63        0  \n",
      "4                    15.11        0  \n",
      "       order_id         pickup_time               drop_time  \\\n",
      "49995  ORD49996 2024-10-11 12:36:00 2024-10-11 12:53:36.000   \n",
      "49996  ORD49997 2024-03-30 05:51:00 2024-03-30 06:04:21.000   \n",
      "49997  ORD49998 2024-02-08 01:49:00 2024-02-08 02:05:05.400   \n",
      "49998  ORD49999 2024-08-27 02:42:00 2024-08-27 02:56:53.400   \n",
      "49999  ORD50000 2024-09-03 03:04:00 2024-09-03 03:20:21.600   \n",
      "\n",
      "       actual_duration_minutes  is_late  \n",
      "49995                    17.60        0  \n",
      "49996                    13.35        0  \n",
      "49997                    16.09        0  \n",
      "49998                    14.89        0  \n",
      "49999                    16.36        0  \n"
     ]
    }
   ],
   "source": [
    "print('deliveries')\n",
    "print(deliveries.shape)\n",
    "print(deliveries.head())\n",
    "print(deliveries.tail())"
   ]
  },
  {
   "cell_type": "code",
   "execution_count": 13,
   "id": "c71d3d92-7bf8-4d73-ad4e-fd81437c15a0",
   "metadata": {
    "scrolled": true
   },
   "outputs": [
    {
     "name": "stdout",
     "output_type": "stream",
     "text": [
      "customers\n",
      "(5000, 4)\n",
      "  customer_id location  loyalty_score signup_date\n",
      "0    CUST0001     West             30  2020-08-16\n",
      "1    CUST0002  Central             23  2020-02-21\n",
      "2    CUST0003     East             16  2021-07-17\n",
      "3    CUST0004  Central             14  2021-05-16\n",
      "4    CUST0005  Central             74  2021-04-02\n",
      "     customer_id location  loyalty_score signup_date\n",
      "4995    CUST4996     West             96  2023-05-27\n",
      "4996    CUST4997     West             53  2022-08-23\n",
      "4997    CUST4998  Central             56  2022-09-13\n",
      "4998    CUST4999     West             59  2020-12-15\n",
      "4999    CUST5000  Central             70  2021-03-25\n"
     ]
    }
   ],
   "source": [
    "print('customers')\n",
    "print(customers.shape)\n",
    "print(customers.head())\n",
    "print(customers.tail())"
   ]
  },
  {
   "cell_type": "code",
   "execution_count": 15,
   "id": "1a7ac76f-ea44-4ee9-a464-2ffa1730b071",
   "metadata": {},
   "outputs": [
    {
     "name": "stdout",
     "output_type": "stream",
     "text": [
      "agents\n",
      "(500, 4)\n",
      "   agent_id assigned_zone  on_time_pct  rating\n",
      "0  AGNT0001          West        77.32    3.06\n",
      "1  AGNT0002         South        94.06    4.74\n",
      "2  AGNT0003       Central        90.41    3.28\n",
      "3  AGNT0004       Central        97.42    3.25\n",
      "4  AGNT0005          East        81.86    3.35\n",
      "     agent_id assigned_zone  on_time_pct  rating\n",
      "495  AGNT0496         South        71.19    4.61\n",
      "496  AGNT0497       Central        90.45    4.32\n",
      "497  AGNT0498         North        83.08    3.80\n",
      "498  AGNT0499          West        72.92    4.03\n",
      "499  AGNT0500         North        90.52    4.61\n"
     ]
    }
   ],
   "source": [
    "print('agents')\n",
    "print(agents.shape)\n",
    "print(agents.head())\n",
    "print(agents.tail())"
   ]
  },
  {
   "cell_type": "code",
   "execution_count": 17,
   "id": "2a469ca8-98e7-4acc-abc4-f07b4f653e2c",
   "metadata": {},
   "outputs": [],
   "source": [
    "# Checking Column Names and Data Types"
   ]
  },
  {
   "cell_type": "code",
   "execution_count": 19,
   "id": "0075ff2e-34af-4aea-8c3a-82ef6418a5dd",
   "metadata": {},
   "outputs": [
    {
     "name": "stdout",
     "output_type": "stream",
     "text": [
      "<class 'pandas.core.frame.DataFrame'>\n",
      "RangeIndex: 50000 entries, 0 to 49999\n",
      "Data columns (total 9 columns):\n",
      " #   Column             Non-Null Count  Dtype         \n",
      "---  ------             --------------  -----         \n",
      " 0   order_id           50000 non-null  object        \n",
      " 1   customer_id        50000 non-null  object        \n",
      " 2   delivery_agent_id  50000 non-null  object        \n",
      " 3   order_time         50000 non-null  datetime64[ns]\n",
      " 4   delivery_time      50000 non-null  datetime64[ns]\n",
      " 5   delay_minutes      50000 non-null  float64       \n",
      " 6   zone               50000 non-null  object        \n",
      " 7   weather_condition  50000 non-null  object        \n",
      " 8   status             50000 non-null  object        \n",
      "dtypes: datetime64[ns](2), float64(1), object(6)\n",
      "memory usage: 3.4+ MB\n",
      "<class 'pandas.core.frame.DataFrame'>\n",
      "RangeIndex: 50000 entries, 0 to 49999\n",
      "Data columns (total 5 columns):\n",
      " #   Column                   Non-Null Count  Dtype         \n",
      "---  ------                   --------------  -----         \n",
      " 0   order_id                 50000 non-null  object        \n",
      " 1   pickup_time              50000 non-null  datetime64[ns]\n",
      " 2   drop_time                50000 non-null  datetime64[ns]\n",
      " 3   actual_duration_minutes  50000 non-null  float64       \n",
      " 4   is_late                  50000 non-null  int64         \n",
      "dtypes: datetime64[ns](2), float64(1), int64(1), object(1)\n",
      "memory usage: 1.9+ MB\n",
      "<class 'pandas.core.frame.DataFrame'>\n",
      "RangeIndex: 5000 entries, 0 to 4999\n",
      "Data columns (total 4 columns):\n",
      " #   Column         Non-Null Count  Dtype         \n",
      "---  ------         --------------  -----         \n",
      " 0   customer_id    5000 non-null   object        \n",
      " 1   location       5000 non-null   object        \n",
      " 2   loyalty_score  5000 non-null   int64         \n",
      " 3   signup_date    5000 non-null   datetime64[ns]\n",
      "dtypes: datetime64[ns](1), int64(1), object(2)\n",
      "memory usage: 156.4+ KB\n",
      "<class 'pandas.core.frame.DataFrame'>\n",
      "RangeIndex: 500 entries, 0 to 499\n",
      "Data columns (total 4 columns):\n",
      " #   Column         Non-Null Count  Dtype  \n",
      "---  ------         --------------  -----  \n",
      " 0   agent_id       500 non-null    object \n",
      " 1   assigned_zone  500 non-null    object \n",
      " 2   on_time_pct    500 non-null    float64\n",
      " 3   rating         500 non-null    float64\n",
      "dtypes: float64(2), object(2)\n",
      "memory usage: 15.8+ KB\n"
     ]
    }
   ],
   "source": [
    "orders.info()\n",
    "deliveries.info()\n",
    "customers.info()\n",
    "agents.info()"
   ]
  },
  {
   "cell_type": "code",
   "execution_count": 21,
   "id": "c125ab03-2c10-459a-a0fb-077e6bb6307b",
   "metadata": {},
   "outputs": [],
   "source": [
    "# 3.2  Checking for Null/Missing Values"
   ]
  },
  {
   "cell_type": "code",
   "execution_count": 23,
   "id": "762f3745-9422-434e-9321-75904342b8de",
   "metadata": {},
   "outputs": [
    {
     "data": {
      "text/plain": [
       "order_id             0\n",
       "customer_id          0\n",
       "delivery_agent_id    0\n",
       "order_time           0\n",
       "delivery_time        0\n",
       "delay_minutes        0\n",
       "zone                 0\n",
       "weather_condition    0\n",
       "status               0\n",
       "dtype: int64"
      ]
     },
     "execution_count": 23,
     "metadata": {},
     "output_type": "execute_result"
    }
   ],
   "source": [
    "orders.isnull().sum()"
   ]
  },
  {
   "cell_type": "code",
   "execution_count": 25,
   "id": "7b7f67a4-57a9-455e-ac86-5dabdaee73a9",
   "metadata": {},
   "outputs": [
    {
     "data": {
      "text/plain": [
       "order_id                   0\n",
       "pickup_time                0\n",
       "drop_time                  0\n",
       "actual_duration_minutes    0\n",
       "is_late                    0\n",
       "dtype: int64"
      ]
     },
     "execution_count": 25,
     "metadata": {},
     "output_type": "execute_result"
    }
   ],
   "source": [
    "deliveries.isnull().sum()"
   ]
  },
  {
   "cell_type": "code",
   "execution_count": 27,
   "id": "eec30076-36c5-4d44-9c67-b4da569ffffa",
   "metadata": {},
   "outputs": [
    {
     "data": {
      "text/plain": [
       "customer_id      0\n",
       "location         0\n",
       "loyalty_score    0\n",
       "signup_date      0\n",
       "dtype: int64"
      ]
     },
     "execution_count": 27,
     "metadata": {},
     "output_type": "execute_result"
    }
   ],
   "source": [
    "customers.isnull().sum()"
   ]
  },
  {
   "cell_type": "code",
   "execution_count": 29,
   "id": "20db7d77-e955-4d98-8ae1-728efa57b5ee",
   "metadata": {
    "scrolled": true
   },
   "outputs": [
    {
     "data": {
      "text/plain": [
       "agent_id         0\n",
       "assigned_zone    0\n",
       "on_time_pct      0\n",
       "rating           0\n",
       "dtype: int64"
      ]
     },
     "execution_count": 29,
     "metadata": {},
     "output_type": "execute_result"
    }
   ],
   "source": [
    "agents.isnull().sum()"
   ]
  },
  {
   "cell_type": "code",
   "execution_count": 31,
   "id": "44a80fd3-19fd-4ba9-87c0-16deca84bbc6",
   "metadata": {},
   "outputs": [],
   "source": [
    "# 3.3 checking for columns names"
   ]
  },
  {
   "cell_type": "code",
   "execution_count": 33,
   "id": "3ece79a4-f3d8-4606-9cbc-06a7706e2ccd",
   "metadata": {},
   "outputs": [
    {
     "name": "stdout",
     "output_type": "stream",
     "text": [
      "orders= Index(['order_id', 'customer_id', 'delivery_agent_id', 'order_time',\n",
      "       'delivery_time', 'delay_minutes', 'zone', 'weather_condition',\n",
      "       'status'],\n",
      "      dtype='object')\n",
      "deliveries= Index(['order_id', 'pickup_time', 'drop_time', 'actual_duration_minutes',\n",
      "       'is_late'],\n",
      "      dtype='object')\n",
      "customers= Index(['customer_id', 'location', 'loyalty_score', 'signup_date'], dtype='object')\n",
      "agents= Index(['agent_id', 'assigned_zone', 'on_time_pct', 'rating'], dtype='object')\n"
     ]
    }
   ],
   "source": [
    "print('orders=',orders.columns)\n",
    "print('deliveries=',deliveries.columns)\n",
    "print('customers=',customers.columns)\n",
    "print('agents=',agents.columns)"
   ]
  },
  {
   "cell_type": "code",
   "execution_count": 35,
   "id": "dcde2659-0853-4cd9-a15f-a5057f06ef68",
   "metadata": {},
   "outputs": [],
   "source": [
    "# 3.4 Descriptive Statistics (for numeric columns)"
   ]
  },
  {
   "cell_type": "code",
   "execution_count": 37,
   "id": "d7823cb5-12c0-4cde-a148-3c9e50c3f5da",
   "metadata": {
    "scrolled": true
   },
   "outputs": [
    {
     "data": {
      "text/html": [
       "<div>\n",
       "<style scoped>\n",
       "    .dataframe tbody tr th:only-of-type {\n",
       "        vertical-align: middle;\n",
       "    }\n",
       "\n",
       "    .dataframe tbody tr th {\n",
       "        vertical-align: top;\n",
       "    }\n",
       "\n",
       "    .dataframe thead th {\n",
       "        text-align: right;\n",
       "    }\n",
       "</style>\n",
       "<table border=\"1\" class=\"dataframe\">\n",
       "  <thead>\n",
       "    <tr style=\"text-align: right;\">\n",
       "      <th></th>\n",
       "      <th>order_time</th>\n",
       "      <th>delivery_time</th>\n",
       "      <th>delay_minutes</th>\n",
       "    </tr>\n",
       "  </thead>\n",
       "  <tbody>\n",
       "    <tr>\n",
       "      <th>count</th>\n",
       "      <td>50000</td>\n",
       "      <td>50000</td>\n",
       "      <td>50000.000000</td>\n",
       "    </tr>\n",
       "    <tr>\n",
       "      <th>mean</th>\n",
       "      <td>2024-07-01 18:23:07.384800256</td>\n",
       "      <td>2024-07-01 18:38:11.814768128</td>\n",
       "      <td>5.073833</td>\n",
       "    </tr>\n",
       "    <tr>\n",
       "      <th>min</th>\n",
       "      <td>2024-01-01 00:01:00</td>\n",
       "      <td>2024-01-01 00:17:00</td>\n",
       "      <td>0.000000</td>\n",
       "    </tr>\n",
       "    <tr>\n",
       "      <th>25%</th>\n",
       "      <td>2024-04-01 11:02:45</td>\n",
       "      <td>2024-04-01 11:16:01.950000128</td>\n",
       "      <td>2.960000</td>\n",
       "    </tr>\n",
       "    <tr>\n",
       "      <th>50%</th>\n",
       "      <td>2024-07-02 12:26:30</td>\n",
       "      <td>2024-07-02 12:39:42.600000</td>\n",
       "      <td>5.010000</td>\n",
       "    </tr>\n",
       "    <tr>\n",
       "      <th>75%</th>\n",
       "      <td>2024-09-30 23:50:45</td>\n",
       "      <td>2024-10-01 00:06:19.350000128</td>\n",
       "      <td>7.050000</td>\n",
       "    </tr>\n",
       "    <tr>\n",
       "      <th>max</th>\n",
       "      <td>2024-12-30 23:57:00</td>\n",
       "      <td>2024-12-31 00:13:34.800000</td>\n",
       "      <td>17.900000</td>\n",
       "    </tr>\n",
       "    <tr>\n",
       "      <th>std</th>\n",
       "      <td>NaN</td>\n",
       "      <td>NaN</td>\n",
       "      <td>2.883451</td>\n",
       "    </tr>\n",
       "  </tbody>\n",
       "</table>\n",
       "</div>"
      ],
      "text/plain": [
       "                          order_time                  delivery_time  \\\n",
       "count                          50000                          50000   \n",
       "mean   2024-07-01 18:23:07.384800256  2024-07-01 18:38:11.814768128   \n",
       "min              2024-01-01 00:01:00            2024-01-01 00:17:00   \n",
       "25%              2024-04-01 11:02:45  2024-04-01 11:16:01.950000128   \n",
       "50%              2024-07-02 12:26:30     2024-07-02 12:39:42.600000   \n",
       "75%              2024-09-30 23:50:45  2024-10-01 00:06:19.350000128   \n",
       "max              2024-12-30 23:57:00     2024-12-31 00:13:34.800000   \n",
       "std                              NaN                            NaN   \n",
       "\n",
       "       delay_minutes  \n",
       "count   50000.000000  \n",
       "mean        5.073833  \n",
       "min         0.000000  \n",
       "25%         2.960000  \n",
       "50%         5.010000  \n",
       "75%         7.050000  \n",
       "max        17.900000  \n",
       "std         2.883451  "
      ]
     },
     "execution_count": 37,
     "metadata": {},
     "output_type": "execute_result"
    }
   ],
   "source": [
    "orders.describe()"
   ]
  },
  {
   "cell_type": "code",
   "execution_count": 39,
   "id": "36bd8bab-b47e-4cf7-b2af-711b8c66140f",
   "metadata": {},
   "outputs": [
    {
     "data": {
      "text/html": [
       "<div>\n",
       "<style scoped>\n",
       "    .dataframe tbody tr th:only-of-type {\n",
       "        vertical-align: middle;\n",
       "    }\n",
       "\n",
       "    .dataframe tbody tr th {\n",
       "        vertical-align: top;\n",
       "    }\n",
       "\n",
       "    .dataframe thead th {\n",
       "        text-align: right;\n",
       "    }\n",
       "</style>\n",
       "<table border=\"1\" class=\"dataframe\">\n",
       "  <thead>\n",
       "    <tr style=\"text-align: right;\">\n",
       "      <th></th>\n",
       "      <th>loyalty_score</th>\n",
       "      <th>signup_date</th>\n",
       "    </tr>\n",
       "  </thead>\n",
       "  <tbody>\n",
       "    <tr>\n",
       "      <th>count</th>\n",
       "      <td>5000.00000</td>\n",
       "      <td>5000</td>\n",
       "    </tr>\n",
       "    <tr>\n",
       "      <th>mean</th>\n",
       "      <td>50.70300</td>\n",
       "      <td>2021-10-16 09:03:44.640000</td>\n",
       "    </tr>\n",
       "    <tr>\n",
       "      <th>min</th>\n",
       "      <td>1.00000</td>\n",
       "      <td>2020-01-01 00:00:00</td>\n",
       "    </tr>\n",
       "    <tr>\n",
       "      <th>25%</th>\n",
       "      <td>25.00000</td>\n",
       "      <td>2020-11-20 00:00:00</td>\n",
       "    </tr>\n",
       "    <tr>\n",
       "      <th>50%</th>\n",
       "      <td>51.00000</td>\n",
       "      <td>2021-10-16 12:00:00</td>\n",
       "    </tr>\n",
       "    <tr>\n",
       "      <th>75%</th>\n",
       "      <td>76.00000</td>\n",
       "      <td>2022-09-03 00:00:00</td>\n",
       "    </tr>\n",
       "    <tr>\n",
       "      <th>max</th>\n",
       "      <td>100.00000</td>\n",
       "      <td>2023-07-24 00:00:00</td>\n",
       "    </tr>\n",
       "    <tr>\n",
       "      <th>std</th>\n",
       "      <td>28.74151</td>\n",
       "      <td>NaN</td>\n",
       "    </tr>\n",
       "  </tbody>\n",
       "</table>\n",
       "</div>"
      ],
      "text/plain": [
       "       loyalty_score                 signup_date\n",
       "count     5000.00000                        5000\n",
       "mean        50.70300  2021-10-16 09:03:44.640000\n",
       "min          1.00000         2020-01-01 00:00:00\n",
       "25%         25.00000         2020-11-20 00:00:00\n",
       "50%         51.00000         2021-10-16 12:00:00\n",
       "75%         76.00000         2022-09-03 00:00:00\n",
       "max        100.00000         2023-07-24 00:00:00\n",
       "std         28.74151                         NaN"
      ]
     },
     "execution_count": 39,
     "metadata": {},
     "output_type": "execute_result"
    }
   ],
   "source": [
    "customers.describe()"
   ]
  },
  {
   "cell_type": "code",
   "execution_count": 41,
   "id": "6ea5ac8c-bdee-414e-af64-3679f2625608",
   "metadata": {},
   "outputs": [
    {
     "data": {
      "text/html": [
       "<div>\n",
       "<style scoped>\n",
       "    .dataframe tbody tr th:only-of-type {\n",
       "        vertical-align: middle;\n",
       "    }\n",
       "\n",
       "    .dataframe tbody tr th {\n",
       "        vertical-align: top;\n",
       "    }\n",
       "\n",
       "    .dataframe thead th {\n",
       "        text-align: right;\n",
       "    }\n",
       "</style>\n",
       "<table border=\"1\" class=\"dataframe\">\n",
       "  <thead>\n",
       "    <tr style=\"text-align: right;\">\n",
       "      <th></th>\n",
       "      <th>on_time_pct</th>\n",
       "      <th>rating</th>\n",
       "    </tr>\n",
       "  </thead>\n",
       "  <tbody>\n",
       "    <tr>\n",
       "      <th>count</th>\n",
       "      <td>500.000000</td>\n",
       "      <td>500.000000</td>\n",
       "    </tr>\n",
       "    <tr>\n",
       "      <th>mean</th>\n",
       "      <td>84.043840</td>\n",
       "      <td>3.974760</td>\n",
       "    </tr>\n",
       "    <tr>\n",
       "      <th>std</th>\n",
       "      <td>8.357816</td>\n",
       "      <td>0.574218</td>\n",
       "    </tr>\n",
       "    <tr>\n",
       "      <th>min</th>\n",
       "      <td>70.020000</td>\n",
       "      <td>3.000000</td>\n",
       "    </tr>\n",
       "    <tr>\n",
       "      <th>25%</th>\n",
       "      <td>76.670000</td>\n",
       "      <td>3.480000</td>\n",
       "    </tr>\n",
       "    <tr>\n",
       "      <th>50%</th>\n",
       "      <td>84.080000</td>\n",
       "      <td>3.940000</td>\n",
       "    </tr>\n",
       "    <tr>\n",
       "      <th>75%</th>\n",
       "      <td>91.037500</td>\n",
       "      <td>4.460000</td>\n",
       "    </tr>\n",
       "    <tr>\n",
       "      <th>max</th>\n",
       "      <td>98.930000</td>\n",
       "      <td>4.990000</td>\n",
       "    </tr>\n",
       "  </tbody>\n",
       "</table>\n",
       "</div>"
      ],
      "text/plain": [
       "       on_time_pct      rating\n",
       "count   500.000000  500.000000\n",
       "mean     84.043840    3.974760\n",
       "std       8.357816    0.574218\n",
       "min      70.020000    3.000000\n",
       "25%      76.670000    3.480000\n",
       "50%      84.080000    3.940000\n",
       "75%      91.037500    4.460000\n",
       "max      98.930000    4.990000"
      ]
     },
     "execution_count": 41,
     "metadata": {},
     "output_type": "execute_result"
    }
   ],
   "source": [
    "agents.describe()"
   ]
  },
  {
   "cell_type": "code",
   "execution_count": 43,
   "id": "fb06072a-92c6-460c-97a7-7e2e7f96879a",
   "metadata": {},
   "outputs": [
    {
     "data": {
      "text/html": [
       "<div>\n",
       "<style scoped>\n",
       "    .dataframe tbody tr th:only-of-type {\n",
       "        vertical-align: middle;\n",
       "    }\n",
       "\n",
       "    .dataframe tbody tr th {\n",
       "        vertical-align: top;\n",
       "    }\n",
       "\n",
       "    .dataframe thead th {\n",
       "        text-align: right;\n",
       "    }\n",
       "</style>\n",
       "<table border=\"1\" class=\"dataframe\">\n",
       "  <thead>\n",
       "    <tr style=\"text-align: right;\">\n",
       "      <th></th>\n",
       "      <th>pickup_time</th>\n",
       "      <th>drop_time</th>\n",
       "      <th>actual_duration_minutes</th>\n",
       "      <th>is_late</th>\n",
       "    </tr>\n",
       "  </thead>\n",
       "  <tbody>\n",
       "    <tr>\n",
       "      <th>count</th>\n",
       "      <td>50000</td>\n",
       "      <td>50000</td>\n",
       "      <td>50000.000000</td>\n",
       "      <td>50000.000000</td>\n",
       "    </tr>\n",
       "    <tr>\n",
       "      <th>mean</th>\n",
       "      <td>2024-07-01 18:25:07.384800</td>\n",
       "      <td>2024-07-01 18:38:11.814768128</td>\n",
       "      <td>13.073833</td>\n",
       "      <td>0.049040</td>\n",
       "    </tr>\n",
       "    <tr>\n",
       "      <th>min</th>\n",
       "      <td>2024-01-01 00:03:00</td>\n",
       "      <td>2024-01-01 00:17:00</td>\n",
       "      <td>8.000000</td>\n",
       "      <td>0.000000</td>\n",
       "    </tr>\n",
       "    <tr>\n",
       "      <th>25%</th>\n",
       "      <td>2024-04-01 11:04:45</td>\n",
       "      <td>2024-04-01 11:16:01.950000128</td>\n",
       "      <td>10.960000</td>\n",
       "      <td>0.000000</td>\n",
       "    </tr>\n",
       "    <tr>\n",
       "      <th>50%</th>\n",
       "      <td>2024-07-02 12:28:30</td>\n",
       "      <td>2024-07-02 12:39:42.600000</td>\n",
       "      <td>13.010000</td>\n",
       "      <td>0.000000</td>\n",
       "    </tr>\n",
       "    <tr>\n",
       "      <th>75%</th>\n",
       "      <td>2024-09-30 23:52:45</td>\n",
       "      <td>2024-10-01 00:06:19.350000128</td>\n",
       "      <td>15.050000</td>\n",
       "      <td>0.000000</td>\n",
       "    </tr>\n",
       "    <tr>\n",
       "      <th>max</th>\n",
       "      <td>2024-12-30 23:59:00</td>\n",
       "      <td>2024-12-31 00:13:34.800000</td>\n",
       "      <td>25.900000</td>\n",
       "      <td>1.000000</td>\n",
       "    </tr>\n",
       "    <tr>\n",
       "      <th>std</th>\n",
       "      <td>NaN</td>\n",
       "      <td>NaN</td>\n",
       "      <td>2.883451</td>\n",
       "      <td>0.215954</td>\n",
       "    </tr>\n",
       "  </tbody>\n",
       "</table>\n",
       "</div>"
      ],
      "text/plain": [
       "                      pickup_time                      drop_time  \\\n",
       "count                       50000                          50000   \n",
       "mean   2024-07-01 18:25:07.384800  2024-07-01 18:38:11.814768128   \n",
       "min           2024-01-01 00:03:00            2024-01-01 00:17:00   \n",
       "25%           2024-04-01 11:04:45  2024-04-01 11:16:01.950000128   \n",
       "50%           2024-07-02 12:28:30     2024-07-02 12:39:42.600000   \n",
       "75%           2024-09-30 23:52:45  2024-10-01 00:06:19.350000128   \n",
       "max           2024-12-30 23:59:00     2024-12-31 00:13:34.800000   \n",
       "std                           NaN                            NaN   \n",
       "\n",
       "       actual_duration_minutes       is_late  \n",
       "count             50000.000000  50000.000000  \n",
       "mean                 13.073833      0.049040  \n",
       "min                   8.000000      0.000000  \n",
       "25%                  10.960000      0.000000  \n",
       "50%                  13.010000      0.000000  \n",
       "75%                  15.050000      0.000000  \n",
       "max                  25.900000      1.000000  \n",
       "std                   2.883451      0.215954  "
      ]
     },
     "execution_count": 43,
     "metadata": {},
     "output_type": "execute_result"
    }
   ],
   "source": [
    "deliveries.describe()"
   ]
  },
  {
   "cell_type": "code",
   "execution_count": 45,
   "id": "74659b07-1be8-486d-acd8-31722600d2d7",
   "metadata": {},
   "outputs": [],
   "source": [
    "# 3.5 checking for duplicate values"
   ]
  },
  {
   "cell_type": "code",
   "execution_count": 47,
   "id": "bfb525f2-de53-42a5-b156-687cf3cd14f3",
   "metadata": {},
   "outputs": [
    {
     "name": "stdout",
     "output_type": "stream",
     "text": [
      "orders= 0\n",
      "deliveries= 0\n",
      "customers= 0\n",
      "agents= 0\n"
     ]
    }
   ],
   "source": [
    "print('orders=',orders.duplicated().sum())\n",
    "print('deliveries=',deliveries.duplicated().sum())\n",
    "print('customers=',customers.duplicated().sum())\n",
    "print('agents=',agents.duplicated().sum())"
   ]
  },
  {
   "cell_type": "code",
   "execution_count": 49,
   "id": "3f74bb1f-7190-43c8-beb1-8b6face8595f",
   "metadata": {},
   "outputs": [],
   "source": [
    "# 3.6 Check Unique Values in Categorical Columns"
   ]
  },
  {
   "cell_type": "code",
   "execution_count": 51,
   "id": "deecea45-0002-4b89-9bc7-48df129f54b0",
   "metadata": {},
   "outputs": [
    {
     "name": "stdout",
     "output_type": "stream",
     "text": [
      "unique customer_id= 5000\n",
      "unique order_id= 50000\n",
      "count of order_status= status\n",
      "Delivered    50000\n",
      "Name: count, dtype: int64\n",
      "unique cities= ['West' 'Central' 'East' 'South' 'North']\n",
      "unique agent_id= 500\n"
     ]
    }
   ],
   "source": [
    "print('unique customer_id=',orders['customer_id'].nunique()) \n",
    "print('unique order_id=',deliveries['order_id'].nunique())\n",
    "print('count of order_status=',orders['status'].value_counts())\n",
    "print('unique cities=',customers['location'].unique())\n",
    "print('unique agent_id=',agents['agent_id'].nunique())"
   ]
  },
  {
   "cell_type": "code",
   "execution_count": null,
   "id": "e924b9ee-a392-4a86-8800-08de048856d0",
   "metadata": {
    "scrolled": true
   },
   "outputs": [],
   "source": [
    "## 4. Deep-Dive Analysis\n",
    "\n",
    "### 4.1 Delivery Time Performance Analysis\n",
    "\n",
    "# Business Question:\n",
    "How efficient are our deliveries, and are there any clear delays?\n",
    "\n",
    "# Goal:\n",
    "find top 10 longest and shortest deliveries.\n",
    "Summarize delivery efficiency through simple metrics and one clean visual.\n",
    "\n",
    "#Tools:\n",
    "pandas, seaborn"
   ]
  },
  {
   "cell_type": "code",
   "execution_count": 55,
   "id": "0fd0a816-3bd5-40b0-b2e7-db6e5b014535",
   "metadata": {},
   "outputs": [
    {
     "name": "stdout",
     "output_type": "stream",
     "text": [
      "count    50000.000000\n",
      "mean        13.073833\n",
      "std          2.883451\n",
      "min          8.000000\n",
      "25%         10.960000\n",
      "50%         13.010000\n",
      "75%         15.050000\n",
      "max         25.900000\n",
      "Name: actual_duration_minutes, dtype: float64\n"
     ]
    }
   ],
   "source": [
    "print(deliveries['actual_duration_minutes'].describe())"
   ]
  },
  {
   "cell_type": "code",
   "execution_count": 57,
   "id": "09fcfd38-e4de-4dea-98b9-830bfc62ccf4",
   "metadata": {},
   "outputs": [
    {
     "data": {
      "text/html": [
       "<div>\n",
       "<style scoped>\n",
       "    .dataframe tbody tr th:only-of-type {\n",
       "        vertical-align: middle;\n",
       "    }\n",
       "\n",
       "    .dataframe tbody tr th {\n",
       "        vertical-align: top;\n",
       "    }\n",
       "\n",
       "    .dataframe thead th {\n",
       "        text-align: right;\n",
       "    }\n",
       "</style>\n",
       "<table border=\"1\" class=\"dataframe\">\n",
       "  <thead>\n",
       "    <tr style=\"text-align: right;\">\n",
       "      <th></th>\n",
       "      <th>order_id</th>\n",
       "      <th>pickup_time</th>\n",
       "      <th>drop_time</th>\n",
       "      <th>actual_duration_minutes</th>\n",
       "      <th>is_late</th>\n",
       "    </tr>\n",
       "  </thead>\n",
       "  <tbody>\n",
       "    <tr>\n",
       "      <th>27240</th>\n",
       "      <td>ORD27241</td>\n",
       "      <td>2024-08-24 05:41:00</td>\n",
       "      <td>2024-08-24 06:06:54.000</td>\n",
       "      <td>25.90</td>\n",
       "      <td>1</td>\n",
       "    </tr>\n",
       "    <tr>\n",
       "      <th>26464</th>\n",
       "      <td>ORD26465</td>\n",
       "      <td>2024-01-30 09:00:00</td>\n",
       "      <td>2024-01-30 09:25:03.000</td>\n",
       "      <td>25.05</td>\n",
       "      <td>1</td>\n",
       "    </tr>\n",
       "    <tr>\n",
       "      <th>14045</th>\n",
       "      <td>ORD14046</td>\n",
       "      <td>2024-07-26 06:14:00</td>\n",
       "      <td>2024-07-26 06:38:25.200</td>\n",
       "      <td>24.42</td>\n",
       "      <td>1</td>\n",
       "    </tr>\n",
       "    <tr>\n",
       "      <th>8641</th>\n",
       "      <td>ORD08642</td>\n",
       "      <td>2024-08-04 08:51:00</td>\n",
       "      <td>2024-08-04 09:15:19.800</td>\n",
       "      <td>24.33</td>\n",
       "      <td>1</td>\n",
       "    </tr>\n",
       "    <tr>\n",
       "      <th>15666</th>\n",
       "      <td>ORD15667</td>\n",
       "      <td>2024-12-16 20:33:00</td>\n",
       "      <td>2024-12-16 20:57:03.600</td>\n",
       "      <td>24.06</td>\n",
       "      <td>1</td>\n",
       "    </tr>\n",
       "    <tr>\n",
       "      <th>9929</th>\n",
       "      <td>ORD09930</td>\n",
       "      <td>2024-03-16 20:28:00</td>\n",
       "      <td>2024-03-16 20:51:40.200</td>\n",
       "      <td>23.67</td>\n",
       "      <td>1</td>\n",
       "    </tr>\n",
       "    <tr>\n",
       "      <th>2133</th>\n",
       "      <td>ORD02134</td>\n",
       "      <td>2024-12-11 18:26:00</td>\n",
       "      <td>2024-12-11 18:49:37.800</td>\n",
       "      <td>23.63</td>\n",
       "      <td>1</td>\n",
       "    </tr>\n",
       "    <tr>\n",
       "      <th>8772</th>\n",
       "      <td>ORD08773</td>\n",
       "      <td>2024-09-01 22:20:00</td>\n",
       "      <td>2024-09-01 22:43:32.400</td>\n",
       "      <td>23.54</td>\n",
       "      <td>1</td>\n",
       "    </tr>\n",
       "    <tr>\n",
       "      <th>17679</th>\n",
       "      <td>ORD17680</td>\n",
       "      <td>2024-06-21 06:04:00</td>\n",
       "      <td>2024-06-21 06:27:31.200</td>\n",
       "      <td>23.52</td>\n",
       "      <td>1</td>\n",
       "    </tr>\n",
       "    <tr>\n",
       "      <th>8069</th>\n",
       "      <td>ORD08070</td>\n",
       "      <td>2024-10-24 01:09:00</td>\n",
       "      <td>2024-10-24 01:32:28.200</td>\n",
       "      <td>23.47</td>\n",
       "      <td>1</td>\n",
       "    </tr>\n",
       "  </tbody>\n",
       "</table>\n",
       "</div>"
      ],
      "text/plain": [
       "       order_id         pickup_time               drop_time  \\\n",
       "27240  ORD27241 2024-08-24 05:41:00 2024-08-24 06:06:54.000   \n",
       "26464  ORD26465 2024-01-30 09:00:00 2024-01-30 09:25:03.000   \n",
       "14045  ORD14046 2024-07-26 06:14:00 2024-07-26 06:38:25.200   \n",
       "8641   ORD08642 2024-08-04 08:51:00 2024-08-04 09:15:19.800   \n",
       "15666  ORD15667 2024-12-16 20:33:00 2024-12-16 20:57:03.600   \n",
       "9929   ORD09930 2024-03-16 20:28:00 2024-03-16 20:51:40.200   \n",
       "2133   ORD02134 2024-12-11 18:26:00 2024-12-11 18:49:37.800   \n",
       "8772   ORD08773 2024-09-01 22:20:00 2024-09-01 22:43:32.400   \n",
       "17679  ORD17680 2024-06-21 06:04:00 2024-06-21 06:27:31.200   \n",
       "8069   ORD08070 2024-10-24 01:09:00 2024-10-24 01:32:28.200   \n",
       "\n",
       "       actual_duration_minutes  is_late  \n",
       "27240                    25.90        1  \n",
       "26464                    25.05        1  \n",
       "14045                    24.42        1  \n",
       "8641                     24.33        1  \n",
       "15666                    24.06        1  \n",
       "9929                     23.67        1  \n",
       "2133                     23.63        1  \n",
       "8772                     23.54        1  \n",
       "17679                    23.52        1  \n",
       "8069                     23.47        1  "
      ]
     },
     "execution_count": 57,
     "metadata": {},
     "output_type": "execute_result"
    }
   ],
   "source": [
    "# Top 10 Longest Deliveries\n",
    "longest = deliveries.sort_values('actual_duration_minutes', ascending=False).head(10)\n",
    "longest"
   ]
  },
  {
   "cell_type": "code",
   "execution_count": 59,
   "id": "a75352ae-3348-4039-9c9c-91dea930c402",
   "metadata": {
    "scrolled": true
   },
   "outputs": [
    {
     "data": {
      "text/html": [
       "<div>\n",
       "<style scoped>\n",
       "    .dataframe tbody tr th:only-of-type {\n",
       "        vertical-align: middle;\n",
       "    }\n",
       "\n",
       "    .dataframe tbody tr th {\n",
       "        vertical-align: top;\n",
       "    }\n",
       "\n",
       "    .dataframe thead th {\n",
       "        text-align: right;\n",
       "    }\n",
       "</style>\n",
       "<table border=\"1\" class=\"dataframe\">\n",
       "  <thead>\n",
       "    <tr style=\"text-align: right;\">\n",
       "      <th></th>\n",
       "      <th>order_id</th>\n",
       "      <th>pickup_time</th>\n",
       "      <th>drop_time</th>\n",
       "      <th>actual_duration_minutes</th>\n",
       "      <th>is_late</th>\n",
       "    </tr>\n",
       "  </thead>\n",
       "  <tbody>\n",
       "    <tr>\n",
       "      <th>25097</th>\n",
       "      <td>ORD25098</td>\n",
       "      <td>2024-07-19 01:45:00</td>\n",
       "      <td>2024-07-19 01:53:00</td>\n",
       "      <td>8.0</td>\n",
       "      <td>0</td>\n",
       "    </tr>\n",
       "    <tr>\n",
       "      <th>25872</th>\n",
       "      <td>ORD25873</td>\n",
       "      <td>2024-04-17 10:28:00</td>\n",
       "      <td>2024-04-17 10:36:00</td>\n",
       "      <td>8.0</td>\n",
       "      <td>0</td>\n",
       "    </tr>\n",
       "    <tr>\n",
       "      <th>25861</th>\n",
       "      <td>ORD25862</td>\n",
       "      <td>2024-04-26 03:26:00</td>\n",
       "      <td>2024-04-26 03:34:00</td>\n",
       "      <td>8.0</td>\n",
       "      <td>0</td>\n",
       "    </tr>\n",
       "    <tr>\n",
       "      <th>25845</th>\n",
       "      <td>ORD25846</td>\n",
       "      <td>2024-07-31 07:55:00</td>\n",
       "      <td>2024-07-31 08:03:00</td>\n",
       "      <td>8.0</td>\n",
       "      <td>0</td>\n",
       "    </tr>\n",
       "    <tr>\n",
       "      <th>4242</th>\n",
       "      <td>ORD04243</td>\n",
       "      <td>2024-01-10 11:25:00</td>\n",
       "      <td>2024-01-10 11:33:00</td>\n",
       "      <td>8.0</td>\n",
       "      <td>0</td>\n",
       "    </tr>\n",
       "    <tr>\n",
       "      <th>25833</th>\n",
       "      <td>ORD25834</td>\n",
       "      <td>2024-09-30 08:04:00</td>\n",
       "      <td>2024-09-30 08:12:00</td>\n",
       "      <td>8.0</td>\n",
       "      <td>0</td>\n",
       "    </tr>\n",
       "    <tr>\n",
       "      <th>44531</th>\n",
       "      <td>ORD44532</td>\n",
       "      <td>2024-01-19 21:31:00</td>\n",
       "      <td>2024-01-19 21:39:00</td>\n",
       "      <td>8.0</td>\n",
       "      <td>0</td>\n",
       "    </tr>\n",
       "    <tr>\n",
       "      <th>25818</th>\n",
       "      <td>ORD25819</td>\n",
       "      <td>2024-07-14 04:44:00</td>\n",
       "      <td>2024-07-14 04:52:00</td>\n",
       "      <td>8.0</td>\n",
       "      <td>0</td>\n",
       "    </tr>\n",
       "    <tr>\n",
       "      <th>25786</th>\n",
       "      <td>ORD25787</td>\n",
       "      <td>2024-09-05 01:13:00</td>\n",
       "      <td>2024-09-05 01:21:00</td>\n",
       "      <td>8.0</td>\n",
       "      <td>0</td>\n",
       "    </tr>\n",
       "    <tr>\n",
       "      <th>44542</th>\n",
       "      <td>ORD44543</td>\n",
       "      <td>2024-09-21 16:13:00</td>\n",
       "      <td>2024-09-21 16:21:00</td>\n",
       "      <td>8.0</td>\n",
       "      <td>0</td>\n",
       "    </tr>\n",
       "  </tbody>\n",
       "</table>\n",
       "</div>"
      ],
      "text/plain": [
       "       order_id         pickup_time           drop_time  \\\n",
       "25097  ORD25098 2024-07-19 01:45:00 2024-07-19 01:53:00   \n",
       "25872  ORD25873 2024-04-17 10:28:00 2024-04-17 10:36:00   \n",
       "25861  ORD25862 2024-04-26 03:26:00 2024-04-26 03:34:00   \n",
       "25845  ORD25846 2024-07-31 07:55:00 2024-07-31 08:03:00   \n",
       "4242   ORD04243 2024-01-10 11:25:00 2024-01-10 11:33:00   \n",
       "25833  ORD25834 2024-09-30 08:04:00 2024-09-30 08:12:00   \n",
       "44531  ORD44532 2024-01-19 21:31:00 2024-01-19 21:39:00   \n",
       "25818  ORD25819 2024-07-14 04:44:00 2024-07-14 04:52:00   \n",
       "25786  ORD25787 2024-09-05 01:13:00 2024-09-05 01:21:00   \n",
       "44542  ORD44543 2024-09-21 16:13:00 2024-09-21 16:21:00   \n",
       "\n",
       "       actual_duration_minutes  is_late  \n",
       "25097                      8.0        0  \n",
       "25872                      8.0        0  \n",
       "25861                      8.0        0  \n",
       "25845                      8.0        0  \n",
       "4242                       8.0        0  \n",
       "25833                      8.0        0  \n",
       "44531                      8.0        0  \n",
       "25818                      8.0        0  \n",
       "25786                      8.0        0  \n",
       "44542                      8.0        0  "
      ]
     },
     "execution_count": 59,
     "metadata": {},
     "output_type": "execute_result"
    }
   ],
   "source": [
    "# Top 10 fastest Deliveries\n",
    "shortest = deliveries.sort_values('actual_duration_minutes', ascending=True).head(10)\n",
    "shortest"
   ]
  },
  {
   "cell_type": "code",
   "execution_count": 61,
   "id": "79801427-a1be-4089-88da-b9d59f603c14",
   "metadata": {},
   "outputs": [
    {
     "name": "stdout",
     "output_type": "stream",
     "text": [
      "duration_category\n",
      "Normal    24497\n",
      "Slow      12810\n",
      "Fast      12693\n",
      "Name: count, dtype: int64\n"
     ]
    }
   ],
   "source": [
    "# Label fast, normal, and slow deliveries\n",
    "def label_duration(x):\n",
    "    if x < 11:\n",
    "        return 'Fast'\n",
    "    elif x < 15:\n",
    "        return 'Normal'\n",
    "    else:\n",
    "        return 'Slow'\n",
    "\n",
    "deliveries['duration_category'] = deliveries['actual_duration_minutes'].apply(label_duration)\n",
    "print(deliveries['duration_category'].value_counts())"
   ]
  },
  {
   "cell_type": "code",
   "execution_count": 63,
   "id": "e93cce2c-4146-4b67-a4b2-8b466b763019",
   "metadata": {},
   "outputs": [
    {
     "name": "stdout",
     "output_type": "stream",
     "text": [
      "overall average delivery duration is 13.07 minutes\n"
     ]
    }
   ],
   "source": [
    "# Calculate Overall Average Delivery Duration\n",
    "overall_avg_duration=deliveries['actual_duration_minutes'].mean()\n",
    "print(f\"overall average delivery duration is {overall_avg_duration:.2f} minutes\")"
   ]
  },
  {
   "cell_type": "code",
   "execution_count": 65,
   "id": "f3ba0b7d-5acb-4408-81d2-c3575356f0ae",
   "metadata": {},
   "outputs": [
    {
     "name": "stdout",
     "output_type": "stream",
     "text": [
      "On-Time vs Late Delivery Count:\n",
      "is_late\n",
      "0    47548\n",
      "1     2452\n",
      "Name: count, dtype: int64\n"
     ]
    }
   ],
   "source": [
    "# Count of On-Time vs. Late Deliveries\n",
    "on_time_counts = deliveries['is_late'].value_counts()\n",
    "print(\"On-Time vs Late Delivery Count:\")\n",
    "print(on_time_counts)"
   ]
  },
  {
   "cell_type": "code",
   "execution_count": 67,
   "id": "43307600-2340-4485-b024-2224ba73fa89",
   "metadata": {},
   "outputs": [
    {
     "data": {
      "image/png": "[encoded data removed]",
      "text/plain": [
       "<Figure size 600x400 with 1 Axes>"
      ]
     },
     "metadata": {},
     "output_type": "display_data"
    }
   ],
   "source": [
    "# Visualization — On-Time vs Late Deliveries\n",
    "import seaborn as sns\n",
    "import matplotlib.pyplot as plt\n",
    "\n",
    "plt.figure(figsize=(6, 4))\n",
    "sns.countplot(data=deliveries, x='is_late', palette='Set2')\n",
    "plt.title(\"On-Time vs Late Deliveries\")\n",
    "plt.xlabel(\"Delivery Status\")\n",
    "plt.ylabel(\"Number of Deliveries\")\n",
    "plt.xticks(ticks=[0, 1], labels=[\"On-Time\",\"late\"])\n",
    "plt.tight_layout()\n",
    "plt.show()"
   ]
  },
  {
   "cell_type": "code",
   "execution_count": null,
   "id": "4b9574a8-4ef9-467f-b2bd-29f2d85b3ede",
   "metadata": {},
   "outputs": [],
   "source": [
    "# key findings \n",
    "->> we found the top 10 LONGEST and SHORTEST deliveries by time \n",
    "->> most of our deliveries fall in NORMAL category \n",
    "->> only 4.9% of our total deliveries are delayed. which is (2452/50000)"
   ]
  },
  {
   "cell_type": "code",
   "execution_count": null,
   "id": "edbf5ea9-6cdc-4d6c-a356-208e4c2edf44",
   "metadata": {},
   "outputs": [],
   "source": [
    "### 4.2 Zone-wise Delay Insights\n",
    "\n",
    "# Business Question: \n",
    "Are some zones more delay-prone than others?\n",
    "\n",
    "# Goal: \n",
    "Identify and compare the % of late deliveries across different zones and spot problematic days.\n",
    "\n",
    "# Tools: \n",
    "pandas, seaborn"
   ]
  },
  {
   "cell_type": "code",
   "execution_count": 71,
   "id": "bc51bccf-b538-4b82-a946-8b4ba1fb5c6e",
   "metadata": {
    "scrolled": true
   },
   "outputs": [
    {
     "data": {
      "text/html": [
       "<div>\n",
       "<style scoped>\n",
       "    .dataframe tbody tr th:only-of-type {\n",
       "        vertical-align: middle;\n",
       "    }\n",
       "\n",
       "    .dataframe tbody tr th {\n",
       "        vertical-align: top;\n",
       "    }\n",
       "\n",
       "    .dataframe thead th {\n",
       "        text-align: right;\n",
       "    }\n",
       "</style>\n",
       "<table border=\"1\" class=\"dataframe\">\n",
       "  <thead>\n",
       "    <tr style=\"text-align: right;\">\n",
       "      <th></th>\n",
       "      <th>order_id</th>\n",
       "      <th>pickup_time</th>\n",
       "      <th>drop_time</th>\n",
       "      <th>actual_duration_minutes</th>\n",
       "      <th>is_late</th>\n",
       "      <th>duration_category</th>\n",
       "      <th>pickup_day</th>\n",
       "      <th>pickup_hour</th>\n",
       "      <th>pickup_month</th>\n",
       "    </tr>\n",
       "  </thead>\n",
       "  <tbody>\n",
       "    <tr>\n",
       "      <th>0</th>\n",
       "      <td>ORD00001</td>\n",
       "      <td>2024-04-13 22:06:00</td>\n",
       "      <td>2024-04-13 22:21:51.000</td>\n",
       "      <td>15.85</td>\n",
       "      <td>0</td>\n",
       "      <td>Slow</td>\n",
       "      <td>Saturday</td>\n",
       "      <td>22</td>\n",
       "      <td>April</td>\n",
       "    </tr>\n",
       "    <tr>\n",
       "      <th>1</th>\n",
       "      <td>ORD00002</td>\n",
       "      <td>2024-10-07 16:28:00</td>\n",
       "      <td>2024-10-07 16:40:27.600</td>\n",
       "      <td>12.46</td>\n",
       "      <td>0</td>\n",
       "      <td>Normal</td>\n",
       "      <td>Monday</td>\n",
       "      <td>16</td>\n",
       "      <td>October</td>\n",
       "    </tr>\n",
       "    <tr>\n",
       "      <th>2</th>\n",
       "      <td>ORD00003</td>\n",
       "      <td>2024-11-01 16:28:00</td>\n",
       "      <td>2024-11-01 16:41:16.200</td>\n",
       "      <td>13.27</td>\n",
       "      <td>0</td>\n",
       "      <td>Normal</td>\n",
       "      <td>Friday</td>\n",
       "      <td>16</td>\n",
       "      <td>November</td>\n",
       "    </tr>\n",
       "    <tr>\n",
       "      <th>3</th>\n",
       "      <td>ORD00004</td>\n",
       "      <td>2024-03-26 13:46:00</td>\n",
       "      <td>2024-03-26 14:02:37.800</td>\n",
       "      <td>16.63</td>\n",
       "      <td>0</td>\n",
       "      <td>Slow</td>\n",
       "      <td>Tuesday</td>\n",
       "      <td>13</td>\n",
       "      <td>March</td>\n",
       "    </tr>\n",
       "    <tr>\n",
       "      <th>4</th>\n",
       "      <td>ORD00005</td>\n",
       "      <td>2024-09-26 16:50:00</td>\n",
       "      <td>2024-09-26 17:05:06.600</td>\n",
       "      <td>15.11</td>\n",
       "      <td>0</td>\n",
       "      <td>Slow</td>\n",
       "      <td>Thursday</td>\n",
       "      <td>16</td>\n",
       "      <td>September</td>\n",
       "    </tr>\n",
       "    <tr>\n",
       "      <th>5</th>\n",
       "      <td>ORD00006</td>\n",
       "      <td>2024-04-07 11:48:00</td>\n",
       "      <td>2024-04-07 12:02:03.000</td>\n",
       "      <td>14.05</td>\n",
       "      <td>0</td>\n",
       "      <td>Normal</td>\n",
       "      <td>Sunday</td>\n",
       "      <td>11</td>\n",
       "      <td>April</td>\n",
       "    </tr>\n",
       "    <tr>\n",
       "      <th>6</th>\n",
       "      <td>ORD00007</td>\n",
       "      <td>2024-05-17 15:24:00</td>\n",
       "      <td>2024-05-17 15:32:00.000</td>\n",
       "      <td>8.00</td>\n",
       "      <td>0</td>\n",
       "      <td>Fast</td>\n",
       "      <td>Friday</td>\n",
       "      <td>15</td>\n",
       "      <td>May</td>\n",
       "    </tr>\n",
       "    <tr>\n",
       "      <th>7</th>\n",
       "      <td>ORD00008</td>\n",
       "      <td>2024-11-06 06:10:00</td>\n",
       "      <td>2024-11-06 06:22:51.600</td>\n",
       "      <td>12.86</td>\n",
       "      <td>0</td>\n",
       "      <td>Normal</td>\n",
       "      <td>Wednesday</td>\n",
       "      <td>6</td>\n",
       "      <td>November</td>\n",
       "    </tr>\n",
       "    <tr>\n",
       "      <th>8</th>\n",
       "      <td>ORD00009</td>\n",
       "      <td>2024-05-28 07:50:00</td>\n",
       "      <td>2024-05-28 08:00:39.000</td>\n",
       "      <td>10.65</td>\n",
       "      <td>0</td>\n",
       "      <td>Fast</td>\n",
       "      <td>Tuesday</td>\n",
       "      <td>7</td>\n",
       "      <td>May</td>\n",
       "    </tr>\n",
       "    <tr>\n",
       "      <th>9</th>\n",
       "      <td>ORD00010</td>\n",
       "      <td>2024-04-10 12:57:00</td>\n",
       "      <td>2024-04-10 13:12:07.800</td>\n",
       "      <td>15.13</td>\n",
       "      <td>0</td>\n",
       "      <td>Slow</td>\n",
       "      <td>Wednesday</td>\n",
       "      <td>12</td>\n",
       "      <td>April</td>\n",
       "    </tr>\n",
       "  </tbody>\n",
       "</table>\n",
       "</div>"
      ],
      "text/plain": [
       "   order_id         pickup_time               drop_time  \\\n",
       "0  ORD00001 2024-04-13 22:06:00 2024-04-13 22:21:51.000   \n",
       "1  ORD00002 2024-10-07 16:28:00 2024-10-07 16:40:27.600   \n",
       "2  ORD00003 2024-11-01 16:28:00 2024-11-01 16:41:16.200   \n",
       "3  ORD00004 2024-03-26 13:46:00 2024-03-26 14:02:37.800   \n",
       "4  ORD00005 2024-09-26 16:50:00 2024-09-26 17:05:06.600   \n",
       "5  ORD00006 2024-04-07 11:48:00 2024-04-07 12:02:03.000   \n",
       "6  ORD00007 2024-05-17 15:24:00 2024-05-17 15:32:00.000   \n",
       "7  ORD00008 2024-11-06 06:10:00 2024-11-06 06:22:51.600   \n",
       "8  ORD00009 2024-05-28 07:50:00 2024-05-28 08:00:39.000   \n",
       "9  ORD00010 2024-04-10 12:57:00 2024-04-10 13:12:07.800   \n",
       "\n",
       "   actual_duration_minutes  is_late duration_category pickup_day  pickup_hour  \\\n",
       "0                    15.85        0              Slow   Saturday           22   \n",
       "1                    12.46        0            Normal     Monday           16   \n",
       "2                    13.27        0            Normal     Friday           16   \n",
       "3                    16.63        0              Slow    Tuesday           13   \n",
       "4                    15.11        0              Slow   Thursday           16   \n",
       "5                    14.05        0            Normal     Sunday           11   \n",
       "6                     8.00        0              Fast     Friday           15   \n",
       "7                    12.86        0            Normal  Wednesday            6   \n",
       "8                    10.65        0              Fast    Tuesday            7   \n",
       "9                    15.13        0              Slow  Wednesday           12   \n",
       "\n",
       "  pickup_month  \n",
       "0        April  \n",
       "1      October  \n",
       "2     November  \n",
       "3        March  \n",
       "4    September  \n",
       "5        April  \n",
       "6          May  \n",
       "7     November  \n",
       "8          May  \n",
       "9        April  "
      ]
     },
     "execution_count": 71,
     "metadata": {},
     "output_type": "execute_result"
    }
   ],
   "source": [
    "# Create time-based columns\n",
    "deliveries['pickup_day'] = deliveries['pickup_time'].dt.day_name()\n",
    "deliveries['pickup_hour'] = deliveries['pickup_time'].dt.hour\n",
    "deliveries['pickup_month'] = deliveries['pickup_time'].dt.month_name()\n",
    "deliveries.head(10)"
   ]
  },
  {
   "cell_type": "code",
   "execution_count": 73,
   "id": "d9700660-bc70-418c-8902-95d0fd70e900",
   "metadata": {},
   "outputs": [],
   "source": [
    "# Merge deliveries and orders on order_id\n",
    "merged_df = pd.merge(deliveries, orders[['order_id', 'zone']], on='order_id', how='left')"
   ]
  },
  {
   "cell_type": "code",
   "execution_count": 75,
   "id": "85dad910-8738-4261-ac67-8b4bd318ad58",
   "metadata": {},
   "outputs": [
    {
     "name": "stdout",
     "output_type": "stream",
     "text": [
      "      zone   is_late\n",
      "0  Central  0.051966\n",
      "4     West  0.050655\n",
      "2    North  0.048812\n",
      "3    South  0.047879\n",
      "1     East  0.045863\n"
     ]
    }
   ],
   "source": [
    "#Average % of late deliveries by zone\n",
    "zone_delay_rate = merged_df.groupby('zone')['is_late'].mean().reset_index().sort_values(by='is_late', ascending=False)\n",
    "print(zone_delay_rate)"
   ]
  },
  {
   "cell_type": "code",
   "execution_count": 77,
   "id": "97e7ad85-227c-4076-ad44-93e28e5f8796",
   "metadata": {},
   "outputs": [
    {
     "name": "stdout",
     "output_type": "stream",
     "text": [
      "  pickup_day   is_late\n",
      "2   Saturday  0.052165\n",
      "6  Wednesday  0.050440\n",
      "5    Tuesday  0.050280\n",
      "3     Sunday  0.049518\n",
      "0     Friday  0.048733\n",
      "1     Monday  0.046596\n",
      "4   Thursday  0.045665\n"
     ]
    }
   ],
   "source": [
    "# Which day has the highest delays across all zones?\n",
    "day_delay_rate = merged_df.groupby('pickup_day')['is_late'].mean().reset_index().sort_values(by='is_late', ascending=False)\n",
    "print(day_delay_rate)\n"
   ]
  },
  {
   "cell_type": "code",
   "execution_count": 79,
   "id": "3f54940e-7022-4263-a2e9-5c71c9ec6a2d",
   "metadata": {},
   "outputs": [
    {
     "data": {
      "image/png": "[encoded data removed]",
      "text/plain": [
       "<Figure size 800x500 with 1 Axes>"
      ]
     },
     "metadata": {},
     "output_type": "display_data"
    }
   ],
   "source": [
    "# Visualization: Bar Chart – % Late Deliveries by Zone\n",
    "import seaborn as sns\n",
    "import matplotlib.pyplot as plt\n",
    "\n",
    "plt.figure(figsize=(8, 5))\n",
    "sns.barplot(data=zone_delay_rate, x='zone', y='is_late', palette='Oranges_r')\n",
    "plt.title(\"Average % of Late Deliveries by Zone\")\n",
    "plt.ylabel(\"% Late Deliveries\")\n",
    "plt.xlabel(\"Zone\")\n",
    "plt.ylim(0, zone_delay_rate['is_late'].max() + 0.02)\n",
    "plt.grid(axis='y', linestyle='--', alpha=0.5)\n",
    "plt.tight_layout()\n",
    "plt.show()\n"
   ]
  },
  {
   "cell_type": "code",
   "execution_count": null,
   "id": "19adf415-07a9-4ca7-a423-2ac71817f15d",
   "metadata": {},
   "outputs": [],
   "source": [
    "# Key Findings\n",
    "->> Delays are fairly uniform across most zones and days.\n",
    "\n",
    "->>No zone stands out with significantly poor delivery performance, indicating balanced logistics."
   ]
  },
  {
   "cell_type": "code",
   "execution_count": null,
   "id": "f95b1c6f-dd17-4252-9313-54be1579a4c3",
   "metadata": {},
   "outputs": [],
   "source": [
    "### 4.3 Agent Performance\n",
    "\n",
    "#Business Question: \n",
    "How are delivery agents performing across different zones?\n",
    "\n",
    "#Goal: \n",
    "Identify top-performing agents and understand how performance varies by zone.\n",
    "\n",
    "#Tools: \n",
    "pandas, groupby, matplotlib/seaborn"
   ]
  },
  {
   "cell_type": "code",
   "execution_count": 81,
   "id": "39121a57-cebd-41b1-9268-3d85b107df90",
   "metadata": {},
   "outputs": [
    {
     "name": "stdout",
     "output_type": "stream",
     "text": [
      "     agent_id assigned_zone  on_time_pct  rating\n",
      "51   AGNT0052         North        98.93    3.88\n",
      "153  AGNT0154         North        98.90    3.38\n",
      "358  AGNT0359         South        98.77    3.42\n",
      "48   AGNT0049          East        98.72    4.81\n",
      "255  AGNT0256       Central        98.60    4.42\n"
     ]
    }
   ],
   "source": [
    "# Top 5 Agents by On-Time Percentage\n",
    "top_agents=agents.sort_values('on_time_pct',ascending=False).head(5)\n",
    "print(top_agents)"
   ]
  },
  {
   "cell_type": "code",
   "execution_count": 83,
   "id": "05ceb1c8-ae32-4257-b353-54bdf0e1a6c0",
   "metadata": {
    "scrolled": true
   },
   "outputs": [
    {
     "name": "stdout",
     "output_type": "stream",
     "text": [
      "assigned_zone\n",
      "Central    3.951020\n",
      "East       3.984167\n",
      "North      3.999426\n",
      "South      3.884082\n",
      "West       4.059651\n",
      "Name: rating, dtype: float64\n"
     ]
    }
   ],
   "source": [
    "# Average Rating by Zone\n",
    "avg_rating_zone=agents.groupby('assigned_zone')['rating'].mean()\n",
    "print(avg_rating_zone)"
   ]
  },
  {
   "cell_type": "code",
   "execution_count": 85,
   "id": "48ac8e61-feba-4ac0-8cce-8b6264ccdbd0",
   "metadata": {},
   "outputs": [],
   "source": [
    "agents[\"on_time_pct\"] = agents[\"on_time_pct\"] / 100"
   ]
  },
  {
   "cell_type": "code",
   "execution_count": 87,
   "id": "c1b278ea-85d7-4c1b-b3bf-5792fcf62903",
   "metadata": {},
   "outputs": [
    {
     "data": {
      "image/png": "[encoded data removed]",
      "text/plain": [
       "<Figure size 800x500 with 1 Axes>"
      ]
     },
     "metadata": {},
     "output_type": "display_data"
    }
   ],
   "source": [
    "# Visualization – Average On-Time % by Zone\n",
    "import seaborn as sns\n",
    "import matplotlib.pyplot as plt\n",
    "\n",
    "plt.figure(figsize=(8,5))\n",
    "sns.barplot(data=agents, x=\"assigned_zone\", y=\"on_time_pct\", estimator='mean', errorbar=None)\n",
    "plt.title(\"Average On-Time Delivery % by Zone\")\n",
    "plt.xlabel(\"Zone\")\n",
    "plt.ylabel(\"On-Time %\")\n",
    "plt.ylim(0, 1)\n",
    "plt.tight_layout()\n",
    "plt.show()"
   ]
  },
  {
   "cell_type": "code",
   "execution_count": null,
   "id": "0774f5f6-225c-4b9e-a5d9-167b193b7870",
   "metadata": {},
   "outputs": [],
   "source": [
    "# key findings\n",
    "->> all the TOP 5 PERFORMING AGENTS have 98% on_time_perceentage(with a minimal difference)\n",
    "->> WEST ZONE has the highest agents rating\n",
    "    \n",
    "->> Performed agent performance analysis across zones by calculating the average on-time delivery rate.\n",
    "Found consistently high on-time percentages (~83%–86%) across all zones"
   ]
  },
  {
   "cell_type": "code",
   "execution_count": null,
   "id": "805d035f-65f2-44d0-9e98-301a0d058705",
   "metadata": {},
   "outputs": [],
   "source": [
    "### 4.4 Weather Impact on Delays\n",
    "\n",
    "# Business Question: \n",
    "Does weather affect delivery times?\n",
    "\n",
    "# Goal: \n",
    "Analyze how different weather conditions impact actual delivery durations.\n",
    "\n",
    "# Tools: \n",
    "pandas, groupby, matplotlib/seaborn"
   ]
  },
  {
   "cell_type": "code",
   "execution_count": 93,
   "id": "20e03448-fc9c-4f58-ae80-568b40b1103f",
   "metadata": {
    "scrolled": true
   },
   "outputs": [
    {
     "data": {
      "text/plain": [
       "weather_condition\n",
       "Foggy     5.046149\n",
       "Windy     5.073645\n",
       "Rainy     5.075509\n",
       "Stormy    5.083372\n",
       "Clear     5.090563\n",
       "Name: delay_minutes, dtype: float64"
      ]
     },
     "execution_count": 93,
     "metadata": {},
     "output_type": "execute_result"
    }
   ],
   "source": [
    "# Group by weather and calculate average delay\n",
    "avg_weather_delay=orders.groupby('weather_condition')['delay_minutes'].mean().sort_values()\n",
    "avg_weather_delay"
   ]
  },
  {
   "cell_type": "code",
   "execution_count": 95,
   "id": "0f732991-5ba2-4954-97cc-4f3f5e4b90de",
   "metadata": {},
   "outputs": [
    {
     "name": "stdout",
     "output_type": "stream",
     "text": [
      "weather_condition\n",
      "Rainy     10130\n",
      "Windy     10113\n",
      "Foggy      9951\n",
      "Clear      9938\n",
      "Stormy     9868\n",
      "Name: count, dtype: int64\n"
     ]
    }
   ],
   "source": [
    "# Count number of deliveries by weather type\n",
    "weather_counts = orders['weather_condition'].value_counts()\n",
    "print(weather_counts)"
   ]
  },
  {
   "cell_type": "code",
   "execution_count": 97,
   "id": "bd6e3ce1-df6f-4c9e-b9b7-02d8a8e9bc6e",
   "metadata": {},
   "outputs": [
    {
     "data": {
      "image/png": "[encoded data removed]",
      "text/plain": [
       "<Figure size 800x500 with 1 Axes>"
      ]
     },
     "metadata": {},
     "output_type": "display_data"
    }
   ],
   "source": [
    "# Plot average delay by weather condition\n",
    "import matplotlib.pyplot as plt\n",
    "import seaborn as sns\n",
    "\n",
    "plt.figure(figsize=(8, 5))\n",
    "sns.barplot(x=avg_weather_delay.index, y=avg_weather_delay.values, palette=\"crest\")\n",
    "plt.title('Average Delivery Delay by Weather Condition')\n",
    "plt.ylabel('Average Delay (minutes)')\n",
    "plt.xlabel('Weather Condition')\n",
    "plt.xticks(rotation=45)\n",
    "plt.grid(axis='y', linestyle='--', alpha=0.5)\n",
    "plt.tight_layout()\n",
    "plt.show()"
   ]
  },
  {
   "cell_type": "code",
   "execution_count": null,
   "id": "5da4b886-dc54-4cba-a4cf-c84821c479ee",
   "metadata": {},
   "outputs": [],
   "source": [
    "# key findings \n",
    "->> In this dataset, the impact of weather on delivery time appears minimal. \n",
    "This might be due to limited data variation or pre-emptive measures like re-routing.\n",
    "\n",
    "However, in real-world logistics, weather (especially rain, fog, or storms) significantly affects delivery"
   ]
  },
  {
   "cell_type": "code",
   "execution_count": null,
   "id": "0d264c6b-43bf-454e-9f56-060d72be8f23",
   "metadata": {},
   "outputs": [],
   "source": [
    "### 4.5 Customer Order Behavior\n",
    "\n",
    "# Business Question: \n",
    "What does customer ordering behavior look like across different cities?\n",
    "\n",
    "# Goal: \n",
    "Understand where most of the orders come from and identify cities with higher customer engagement.\n",
    "\n",
    "# Tools: \n",
    "pandas, groupby, matplotlib/seaborn"
   ]
  },
  {
   "cell_type": "code",
   "execution_count": 103,
   "id": "7a508529-88e0-4e18-88fa-27e508498327",
   "metadata": {},
   "outputs": [
    {
     "data": {
      "text/html": [
       "<div>\n",
       "<style scoped>\n",
       "    .dataframe tbody tr th:only-of-type {\n",
       "        vertical-align: middle;\n",
       "    }\n",
       "\n",
       "    .dataframe tbody tr th {\n",
       "        vertical-align: top;\n",
       "    }\n",
       "\n",
       "    .dataframe thead th {\n",
       "        text-align: right;\n",
       "    }\n",
       "</style>\n",
       "<table border=\"1\" class=\"dataframe\">\n",
       "  <thead>\n",
       "    <tr style=\"text-align: right;\">\n",
       "      <th></th>\n",
       "      <th>location</th>\n",
       "      <th>num_customers</th>\n",
       "    </tr>\n",
       "  </thead>\n",
       "  <tbody>\n",
       "    <tr>\n",
       "      <th>0</th>\n",
       "      <td>Central</td>\n",
       "      <td>1024</td>\n",
       "    </tr>\n",
       "    <tr>\n",
       "      <th>1</th>\n",
       "      <td>North</td>\n",
       "      <td>1019</td>\n",
       "    </tr>\n",
       "    <tr>\n",
       "      <th>2</th>\n",
       "      <td>West</td>\n",
       "      <td>1009</td>\n",
       "    </tr>\n",
       "    <tr>\n",
       "      <th>3</th>\n",
       "      <td>East</td>\n",
       "      <td>983</td>\n",
       "    </tr>\n",
       "    <tr>\n",
       "      <th>4</th>\n",
       "      <td>South</td>\n",
       "      <td>965</td>\n",
       "    </tr>\n",
       "  </tbody>\n",
       "</table>\n",
       "</div>"
      ],
      "text/plain": [
       "  location  num_customers\n",
       "0  Central           1024\n",
       "1    North           1019\n",
       "2     West           1009\n",
       "3     East            983\n",
       "4    South            965"
      ]
     },
     "execution_count": 103,
     "metadata": {},
     "output_type": "execute_result"
    }
   ],
   "source": [
    "# Count number of customers per city\n",
    "city_counts=customers['location'].value_counts().reset_index()\n",
    "city_counts.columns = ['location', 'num_customers']\n",
    "city_counts"
   ]
  },
  {
   "cell_type": "code",
   "execution_count": 105,
   "id": "89082b61-c5d7-454a-bcb7-23b6c7bcfa62",
   "metadata": {},
   "outputs": [
    {
     "data": {
      "image/png": "[encoded data removed]",
      "text/plain": [
       "<Figure size 1000x600 with 1 Axes>"
      ]
     },
     "metadata": {},
     "output_type": "display_data"
    }
   ],
   "source": [
    "# visualisation of number of customers by zone \n",
    "import matplotlib.pyplot as plt\n",
    "import seaborn as sns\n",
    "\n",
    "plt.figure(figsize=(10,6))\n",
    "sns.barplot(data=city_counts.head(10), x='num_customers', y='location', palette='Blues_d')\n",
    "plt.title('Zones by Number of Customers')\n",
    "plt.xlabel('Number of Customers')\n",
    "plt.ylabel('City')\n",
    "plt.tight_layout()\n",
    "plt.show()"
   ]
  },
  {
   "cell_type": "code",
   "execution_count": null,
   "id": "c4b6857a-b8a5-4aa6-a78f-8f4d8a0bc5df",
   "metadata": {},
   "outputs": [],
   "source": [
    "# key findings\n",
    "->> Zone-wise item counts and values are evenly distributed."
   ]
  },
  {
   "cell_type": "code",
   "execution_count": null,
   "id": "98227389-794d-45c9-95e9-6ff2a0f6fd04",
   "metadata": {},
   "outputs": [],
   "source": [
    "### 4.6 Time Slot Analysis\n",
    "\n",
    "#Business Question: \n",
    "Do delivery durations and punctuality vary across different times of the day?\n",
    "\n",
    "#Goal: \n",
    "Understand how delivery performance fluctuates by time slots (e.g., morning, afternoon, evening, night)\n",
    "to optimize agent assignment and resource planning.\n",
    "\n",
    "#Tools: \n",
    "pandas, groupby "
   ]
  },
  {
   "cell_type": "code",
   "execution_count": 111,
   "id": "41c3e913-8df1-4a5b-b00c-3afc735388b3",
   "metadata": {},
   "outputs": [],
   "source": [
    "# Creating delivery time slots:\n",
    "def assign_time_slot(hour):\n",
    "    if 6 <= hour < 12:\n",
    "        return 'Morning (6AM–12PM)'\n",
    "    elif 12 <= hour < 17:\n",
    "        return 'Afternoon (12PM–5PM)'\n",
    "    elif 17 <= hour < 21:\n",
    "        return 'Evening (5PM–9PM)'\n",
    "    else:\n",
    "        return 'Night (9PM–6AM)'\n",
    "\n",
    "deliveries['time_slot'] = deliveries['pickup_hour'].apply(assign_time_slot)"
   ]
  },
  {
   "cell_type": "code",
   "execution_count": 113,
   "id": "d661b4f9-c1dc-4a1c-bbf3-f7befaf1d837",
   "metadata": {},
   "outputs": [
    {
     "data": {
      "text/plain": [
       "time_slot\n",
       "Afternoon (12PM–5PM)    13.114119\n",
       "Evening (5PM–9PM)       13.077275\n",
       "Morning (6AM–12PM)      13.063082\n",
       "Night (9PM–6AM)         13.057311\n",
       "Name: actual_duration_minutes, dtype: float64"
      ]
     },
     "execution_count": 113,
     "metadata": {},
     "output_type": "execute_result"
    }
   ],
   "source": [
    "# Group by time slot and analyze\n",
    "deliveries.groupby('time_slot')['actual_duration_minutes'].mean()"
   ]
  },
  {
   "cell_type": "code",
   "execution_count": null,
   "id": "b05b7c71-1fbc-48e7-bd8c-8d5ff46eb8aa",
   "metadata": {},
   "outputs": [],
   "source": [
    "# key findings\n",
    "->> we dont find much difference in the number of deliveries grouped by time_slot"
   ]
  },
  {
   "cell_type": "code",
   "execution_count": null,
   "id": "68e6132e-11d5-4008-8f25-50c1cfa1ffc2",
   "metadata": {},
   "outputs": [],
   "source": [
    "# 5 . Next Steps: SQL & Power BI Integration\n",
    "\n",
    " Note \n",
    "While this Jupyter Notebook demonstrates the Python-based analysis using four core datasets,\n",
    "I am also integrating SQL and Power BI in the extended phase of this project.\n",
    "\n",
    "In the upcoming steps:\n",
    "\n",
    "I will be using all six datasets to build relational models in SQL, write meaningful queries, and extract insights.\n",
    "I will also be developing interactive Power BI dashboards to visualize key metrics and trends for a more dynamic and business-friendly presentation.\n",
    "\n",
    "This ensures a complete end-to-end data project workflow—right from raw data to visual reporting."
   ]
  },
  {
   "cell_type": "code",
   "execution_count": null,
   "id": "35e94831-cff8-4931-8dce-9f803bd75dfb",
   "metadata": {},
   "outputs": [],
   "source": []
  },
  {
   "cell_type": "code",
   "execution_count": null,
   "id": "25ac7e8f-34be-4c7f-9618-387125d912d0",
   "metadata": {},
   "outputs": [],
   "source": []
  },
  {
   "cell_type": "code",
   "execution_count": null,
   "id": "7b5473db-784a-45ee-86ce-f8499fd54740",
   "metadata": {},
   "outputs": [],
   "source": []
  },
  {
   "cell_type": "code",
   "execution_count": null,
   "id": "cb92c593-47e0-4061-a315-cf743ebf2865",
   "metadata": {},
   "outputs": [],
   "source": []
  },
  {
   "cell_type": "code",
   "execution_count": null,
   "id": "94ce2d0d-487c-4561-a9fc-42b957d69978",
   "metadata": {},
   "outputs": [],
   "source": []
  },
  {
   "cell_type": "code",
   "execution_count": null,
   "id": "0fbd89d4-e544-427f-bfb7-cfbcce759850",
   "metadata": {},
   "outputs": [],
   "source": []
  }
 ],
 "metadata": {
  "kernelspec": {
   "display_name": "Python 3 (ipykernel)",
   "language": "python",
   "name": "python3"
  },
  "language_info": {
   "codemirror_mode": {
    "name": "ipython",
    "version": 3
   },
   "file_extension": ".py",
   "mimetype": "text/x-python",
   "name": "python",
   "nbconvert_exporter": "python",
   "pygments_lexer": "ipython3",
   "version": "3.11.7"
  }
 },
 "nbformat": 4,
 "nbformat_minor": 5
}
